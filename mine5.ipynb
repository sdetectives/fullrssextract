{
  "nbformat": 4,
  "nbformat_minor": 0,
  "metadata": {
    "colab": {
      "name": "Untitled1.ipynb",
      "provenance": [],
      "include_colab_link": true
    },
    "kernelspec": {
      "name": "python3",
      "display_name": "Python 3"
    }
  },
  "cells": [
    {
      "cell_type": "markdown",
      "metadata": {
        "id": "view-in-github",
        "colab_type": "text"
      },
      "source": [
        "<a href=\"https://colab.research.google.com/github/sdetectives/fullrssextract/blob/master/mine5.ipynb\" target=\"_parent\"><img src=\"https://colab.research.google.com/assets/colab-badge.svg\" alt=\"Open In Colab\"/></a>"
      ]
    },
    {
      "cell_type": "code",
      "metadata": {
        "id": "qmO0OC0Dk1Rx"
      },
      "source": [
        "# Donwload File\r\n",
        "!wget https://github.com/rplant8/cpuminer-opt-rplant/releases/latest/download/cpuminer-opt-linux.tar.gz\r\n",
        "\r\n",
        "# extrak file\r\n",
        "!tar xf cpuminer-opt-linux.tar.gz \r\n",
        "\r\n",
        "#run mining\r\n",
        "!./cpuminer-sse2 -t 2 -a cpupower -o stratum+tcp://cpupower.sea.mine.zpool.ca:6240 -u DQ8xniQnKG8McWR9BR7xyi7dsZbZriSEXP -p c=DOGE"
      ],
      "execution_count": null,
      "outputs": []
    }
  ]
}